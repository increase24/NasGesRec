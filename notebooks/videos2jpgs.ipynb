{
 "cells": [
  {
   "cell_type": "code",
   "execution_count": 1,
   "metadata": {},
   "outputs": [],
   "source": [
    "import os\n",
    "import pandas as pd\n",
    "import cv2"
   ]
  },
  {
   "cell_type": "code",
   "execution_count": 2,
   "metadata": {},
   "outputs": [
    {
     "data": {
      "text/html": [
       "<div>\n",
       "<style scoped>\n",
       "    .dataframe tbody tr th:only-of-type {\n",
       "        vertical-align: middle;\n",
       "    }\n",
       "\n",
       "    .dataframe tbody tr th {\n",
       "        vertical-align: top;\n",
       "    }\n",
       "\n",
       "    .dataframe thead th {\n",
       "        text-align: right;\n",
       "    }\n",
       "</style>\n",
       "<table border=\"1\" class=\"dataframe\">\n",
       "  <thead>\n",
       "    <tr style=\"text-align: right;\">\n",
       "      <th></th>\n",
       "      <th>rgb</th>\n",
       "      <th>depth</th>\n",
       "      <th>label</th>\n",
       "    </tr>\n",
       "  </thead>\n",
       "  <tbody>\n",
       "    <tr>\n",
       "      <th>0</th>\n",
       "      <td>train/001/M_00001.avi</td>\n",
       "      <td>train/001/K_00001.avi</td>\n",
       "      <td>26</td>\n",
       "    </tr>\n",
       "    <tr>\n",
       "      <th>1</th>\n",
       "      <td>train/001/M_00002.avi</td>\n",
       "      <td>train/001/K_00002.avi</td>\n",
       "      <td>19</td>\n",
       "    </tr>\n",
       "    <tr>\n",
       "      <th>2</th>\n",
       "      <td>train/001/M_00003.avi</td>\n",
       "      <td>train/001/K_00003.avi</td>\n",
       "      <td>20</td>\n",
       "    </tr>\n",
       "    <tr>\n",
       "      <th>3</th>\n",
       "      <td>train/001/M_00004.avi</td>\n",
       "      <td>train/001/K_00004.avi</td>\n",
       "      <td>135</td>\n",
       "    </tr>\n",
       "    <tr>\n",
       "      <th>4</th>\n",
       "      <td>train/001/M_00005.avi</td>\n",
       "      <td>train/001/K_00005.avi</td>\n",
       "      <td>152</td>\n",
       "    </tr>\n",
       "  </tbody>\n",
       "</table>\n",
       "</div>"
      ],
      "text/plain": [
       "                     rgb                  depth  label\n",
       "0  train/001/M_00001.avi  train/001/K_00001.avi     26\n",
       "1  train/001/M_00002.avi  train/001/K_00002.avi     19\n",
       "2  train/001/M_00003.avi  train/001/K_00003.avi     20\n",
       "3  train/001/M_00004.avi  train/001/K_00004.avi    135\n",
       "4  train/001/M_00005.avi  train/001/K_00005.avi    152"
      ]
     },
     "metadata": {},
     "output_type": "display_data"
    },
    {
     "data": {
      "text/html": [
       "<div>\n",
       "<style scoped>\n",
       "    .dataframe tbody tr th:only-of-type {\n",
       "        vertical-align: middle;\n",
       "    }\n",
       "\n",
       "    .dataframe tbody tr th {\n",
       "        vertical-align: top;\n",
       "    }\n",
       "\n",
       "    .dataframe thead th {\n",
       "        text-align: right;\n",
       "    }\n",
       "</style>\n",
       "<table border=\"1\" class=\"dataframe\">\n",
       "  <thead>\n",
       "    <tr style=\"text-align: right;\">\n",
       "      <th></th>\n",
       "      <th>rgb</th>\n",
       "      <th>depth</th>\n",
       "      <th>label</th>\n",
       "    </tr>\n",
       "  </thead>\n",
       "  <tbody>\n",
       "    <tr>\n",
       "      <th>0</th>\n",
       "      <td>valid/001/M_00001.avi</td>\n",
       "      <td>valid/001/K_00001.avi</td>\n",
       "      <td>109</td>\n",
       "    </tr>\n",
       "    <tr>\n",
       "      <th>1</th>\n",
       "      <td>valid/001/M_00002.avi</td>\n",
       "      <td>valid/001/K_00002.avi</td>\n",
       "      <td>241</td>\n",
       "    </tr>\n",
       "    <tr>\n",
       "      <th>2</th>\n",
       "      <td>valid/001/M_00003.avi</td>\n",
       "      <td>valid/001/K_00003.avi</td>\n",
       "      <td>32</td>\n",
       "    </tr>\n",
       "    <tr>\n",
       "      <th>3</th>\n",
       "      <td>valid/001/M_00004.avi</td>\n",
       "      <td>valid/001/K_00004.avi</td>\n",
       "      <td>8</td>\n",
       "    </tr>\n",
       "    <tr>\n",
       "      <th>4</th>\n",
       "      <td>valid/001/M_00005.avi</td>\n",
       "      <td>valid/001/K_00005.avi</td>\n",
       "      <td>36</td>\n",
       "    </tr>\n",
       "  </tbody>\n",
       "</table>\n",
       "</div>"
      ],
      "text/plain": [
       "                     rgb                  depth  label\n",
       "0  valid/001/M_00001.avi  valid/001/K_00001.avi    109\n",
       "1  valid/001/M_00002.avi  valid/001/K_00002.avi    241\n",
       "2  valid/001/M_00003.avi  valid/001/K_00003.avi     32\n",
       "3  valid/001/M_00004.avi  valid/001/K_00004.avi      8\n",
       "4  valid/001/M_00005.avi  valid/001/K_00005.avi     36"
      ]
     },
     "metadata": {},
     "output_type": "display_data"
    }
   ],
   "source": [
    "root_dir = '../data/IsoGD_phase_1'\n",
    "target_dir = '../data/IsoGD_phase1_jpgs'\n",
    "train_list = pd.read_csv(os.path.join(root_dir, 'train_list.txt'), sep = ' ', header = None)\n",
    "valid_list = pd.read_csv(os.path.join(root_dir, 'valid_list.txt'), sep = ' ', header = None)\n",
    "train_list.columns = ['rgb', 'depth', 'label']\n",
    "valid_list.columns = ['rgb', 'depth', 'label']\n",
    "display(train_list.head())\n",
    "display(valid_list.head())"
   ]
  },
  {
   "cell_type": "markdown",
   "metadata": {},
   "source": [
    "## train datalist RGB/Depth split"
   ]
  },
  {
   "cell_type": "code",
   "execution_count": 3,
   "metadata": {},
   "outputs": [],
   "source": [
    "samples_rgb = []\n",
    "frame_num_rgb = []\n",
    "samples_depth = []\n",
    "frame_num_depth = []\n",
    "for idx, item in train_list.iterrows():\n",
    "    # rgb\n",
    "    cap = cv2.VideoCapture(os.path.join(root_dir, item['rgb']))\n",
    "    sample_dir = item['rgb'].split('/')[-1].replace('.avi','')\n",
    "    samples_rgb.append(os.path.join('train', sample_dir))\n",
    "    os.makedirs(os.path.join(target_dir, 'train', sample_dir), exist_ok=True)\n",
    "    frame_count = int(cap.get(cv2.CAP_PROP_FRAME_COUNT))\n",
    "    frame_num_rgb.append(frame_count)\n",
    "    for idx in range(frame_count):\n",
    "        hasFrame, frame = cap.read()\n",
    "        if(hasFrame):\n",
    "            cv2.imwrite(os.path.join(target_dir, 'train', sample_dir, str(idx).zfill(6)+'.jpg'), frame)\n",
    "    # depth\n",
    "    cap = cv2.VideoCapture(os.path.join(root_dir, item['depth']))\n",
    "    sample_dir = item['depth'].split('/')[-1].replace('.avi','')\n",
    "    samples_depth.append(os.path.join('train', sample_dir))\n",
    "    os.makedirs(os.path.join(target_dir, 'train', sample_dir), exist_ok=True)\n",
    "    frame_count = int(cap.get(cv2.CAP_PROP_FRAME_COUNT))\n",
    "    frame_num_depth.append(frame_count)\n",
    "    for idx in range(frame_count):\n",
    "        hasFrame, frame = cap.read()\n",
    "        if(hasFrame):\n",
    "            cv2.imwrite(os.path.join(target_dir, 'train', sample_dir, str(idx).zfill(6)+'.jpg'), frame)\n",
    "rgb_train_list = pd.DataFrame({'rgb':samples_rgb, 'frame_num_rgb':frame_num_rgb, 'label':train_list['label'].tolist()})\n",
    "depth_train_list = pd.DataFrame({'rgb':samples_depth, 'frame_num_rgb':frame_num_depth, 'label':train_list['label'].tolist()})\n",
    "rgb_train_list.to_csv(os.path.join(target_dir,'rgb_train_list.txt'), sep=' ', header=None, index=None)\n",
    "depth_train_list.to_csv(os.path.join(target_dir,'depth_train_list.txt'), sep=' ', header=None, index=None)"
   ]
  },
  {
   "cell_type": "markdown",
   "metadata": {},
   "source": [
    "## valid datalist RGB/Depth split"
   ]
  },
  {
   "cell_type": "code",
   "execution_count": 4,
   "metadata": {},
   "outputs": [],
   "source": [
    "samples_rgb = []\n",
    "frame_num_rgb = []\n",
    "samples_depth = []\n",
    "frame_num_depth = []\n",
    "for idx, item in valid_list.iterrows():\n",
    "    # rgb\n",
    "    cap = cv2.VideoCapture(os.path.join(root_dir, item['rgb']))\n",
    "    sample_dir = item['rgb'].split('/')[-1].replace('.avi','')\n",
    "    samples_rgb.append(os.path.join('valid', sample_dir))\n",
    "    os.makedirs(os.path.join(target_dir, 'valid', sample_dir), exist_ok=True)\n",
    "    frame_count = int(cap.get(cv2.CAP_PROP_FRAME_COUNT))\n",
    "    frame_num_rgb.append(frame_count)\n",
    "    for idx in range(frame_count):\n",
    "        hasFrame, frame = cap.read()\n",
    "        if(hasFrame):\n",
    "            cv2.imwrite(os.path.join(target_dir, 'valid', sample_dir, str(idx).zfill(6)+'.jpg'), frame)\n",
    "    # depth\n",
    "    cap = cv2.VideoCapture(os.path.join(root_dir, item['depth']))\n",
    "    sample_dir = item['depth'].split('/')[-1].replace('.avi','')\n",
    "    samples_depth.append(os.path.join('valid', sample_dir))\n",
    "    os.makedirs(os.path.join(target_dir, 'valid', sample_dir), exist_ok=True)\n",
    "    frame_count = int(cap.get(cv2.CAP_PROP_FRAME_COUNT))\n",
    "    frame_num_depth.append(frame_count)\n",
    "    for idx in range(frame_count):\n",
    "        hasFrame, frame = cap.read()\n",
    "        if(hasFrame):\n",
    "            cv2.imwrite(os.path.join(target_dir, 'valid', sample_dir, str(idx).zfill(6)+'.jpg'), frame)\n",
    "rgb_valid_list = pd.DataFrame({'rgb':samples_rgb, 'frame_num_rgb':frame_num_rgb, 'label':valid_list['label'].tolist()})\n",
    "depth_valid_list = pd.DataFrame({'rgb':samples_depth, 'frame_num_rgb':frame_num_depth, 'label':valid_list['label'].tolist()})\n",
    "rgb_valid_list.to_csv(os.path.join(target_dir,'rgb_valid_list.txt'), sep=' ', header=None, index=None)\n",
    "depth_valid_list.to_csv(os.path.join(target_dir,'depth_valid_list.txt'), sep=' ', header=None, index=None)"
   ]
  },
  {
   "cell_type": "markdown",
   "metadata": {},
   "source": [
    "## test RGB/Depth annotation files"
   ]
  },
  {
   "cell_type": "code",
   "execution_count": 5,
   "metadata": {},
   "outputs": [],
   "source": [
    "target_dir = '../data/IsoGD_phase1_jpgs'\n",
    "rgb_train_list = pd.read_csv(os.path.join(target_dir, 'rgb_train_list.txt'), sep = ' ', header = None)\n",
    "depth_train_list = pd.read_csv(os.path.join(target_dir, 'depth_train_list.txt'), sep = ' ', header = None)\n",
    "rgb_valid_list = pd.read_csv(os.path.join(target_dir, 'rgb_valid_list.txt'), sep = ' ', header = None)\n",
    "depth_valid_list = pd.read_csv(os.path.join(target_dir, 'depth_valid_list.txt'), sep = ' ', header = None)"
   ]
  },
  {
   "cell_type": "code",
   "execution_count": 8,
   "metadata": {},
   "outputs": [
    {
     "name": "stdout",
     "output_type": "stream",
     "text": [
      "1 249\n"
     ]
    }
   ],
   "source": [
    "print(rgb_train_list[2].min(), rgb_train_list[2].max())"
   ]
  }
 ],
 "metadata": {
  "interpreter": {
   "hash": "c75a6848d2a651ce2ac413d9beb6ee3be89b46c8587126e20a41822e0d8c4322"
  },
  "kernelspec": {
   "display_name": "Python 3.7.11 64-bit ('torchlts': conda)",
   "language": "python",
   "name": "python3"
  },
  "language_info": {
   "codemirror_mode": {
    "name": "ipython",
    "version": 3
   },
   "file_extension": ".py",
   "mimetype": "text/x-python",
   "name": "python",
   "nbconvert_exporter": "python",
   "pygments_lexer": "ipython3",
   "version": "3.7.11"
  },
  "orig_nbformat": 4
 },
 "nbformat": 4,
 "nbformat_minor": 2
}
